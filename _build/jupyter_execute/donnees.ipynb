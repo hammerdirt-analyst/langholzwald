{
 "cells": [
  {
   "cell_type": "code",
   "execution_count": 1,
   "id": "c7462238-e818-4008-9070-d5a45e2b9aa5",
   "metadata": {
    "editable": true,
    "slideshow": {
     "slide_type": ""
    },
    "tags": [
     "remove-input"
    ]
   },
   "outputs": [],
   "source": [
    "%load_ext watermark\n",
    "import pandas as pd\n",
    "import xarray as xr\n",
    "import langholzli as lhz\n",
    "from myst_nb import glue\n",
    "\n",
    "my_tag = \"hammerdirt-analyst\"\n",
    "\n",
    "target_species = pd.read_csv('data/endpipe/target_species.csv')\n",
    "# window extents\n",
    "wext_one = (7.1673981838973591,47.0951027481864699)\n",
    "wext_two = (7.3867370409999991,47.1906072286096219)\n",
    "\n",
    "# grid extents\n",
    "# square id\n",
    "# 585220 Langholzli and vorholzli\n",
    "# 585215 langholzli sud\n",
    "# 590220 vorholzli nord\n",
    "\n",
    "# extent of the two grid squares that make langholz\n",
    "grid_one = (7.2407620202501777,47.0858405714567212)\n",
    "grid_two = (7.3069424859821366,47.1758797299210784)\n",
    "date_limit = '2000-01-01'\n",
    "\n",
    "section = \"D\"\n",
    "rule = \" \"\n",
    "\n",
    "# citation of from GBIF download\n",
    "# GBIF.org (29 January 2024) GBIF Occurrence Download  https://doi.org/10.15468/dl.fnsqgf\n",
    "\n",
    "\n",
    "obs_cols = ['kingdom', 'phylum', 'class',\n",
    "       'order', 'family', 'genus', \n",
    "        'species', 'scientificName', \n",
    "        'verbatimScientificName',\n",
    "        'publishingOrgKey', 'decimalLatitude',\n",
    "        'decimalLongitude',\n",
    "        'eventDate']"
   ]
  },
  {
   "cell_type": "code",
   "execution_count": 2,
   "id": "b30374c5-5ee3-48c6-9655-710735b3a033",
   "metadata": {
    "editable": true,
    "slideshow": {
     "slide_type": ""
    },
    "tags": [
     "remove-input"
    ]
   },
   "outputs": [],
   "source": [
    "info_species_test = pd.read_csv(\"data/endpipe/Atlas5x5_585_215.csv\", encoding='utf-16', sep=';')\n",
    "info_species_test[\"Années (min)\"] = info_species_test[\"Années (min)\"].astype('str')\n",
    "info_species_test[\"Années (max)\"] = info_species_test[\"Années (max)\"].astype('str')\n",
    "caption = \"Exemple de données pour la grille 585215 d'Infospecies: Infoflora.\"\n",
    "sample_info = info_species_test.head().style.set_table_styles(lhz.table_css_styles).hide()\n",
    "\n",
    "tablen = 1\n",
    "table_one = lhz.add_table_to_page(sample_info, tablen, caption, section, format_index='columns')\n",
    "glue('table_one', table_one, display=False)"
   ]
  },
  {
   "cell_type": "code",
   "execution_count": 3,
   "id": "f0608af7-c845-4846-9fe9-e4a0bd50f744",
   "metadata": {
    "editable": true,
    "slideshow": {
     "slide_type": ""
    },
    "tags": [
     "remove-input"
    ]
   },
   "outputs": [],
   "source": [
    "summary_gbif = pd.read_csv(\"data/endpipe/initial_gbif_download_summary.csv\", sep=\"\\t\")\n",
    "summary_columns = ['dataset_title',  'number_records']\n",
    "summary_gbif = summary_gbif[summary_columns].set_index('dataset_title').copy()\n",
    "summary_gbif.rename(columns={\"number_records\" :\"Nombre de données\"}, inplace=True)\n",
    "summary_gbif.index.name = None\n",
    "tn = summary_gbif[\"Nombre de données\"].sum()\n",
    "\n",
    "\n",
    "\n",
    "summary_gbif = summary_gbif.style.set_table_styles(lhz.table_css_styles)\n",
    "\n",
    "\n",
    "caption=\"Origine des observations d'espèces répertoriées sur le GBIF, nombre d'observations dans les grilles 585215 et 585220 = 24'567.\"\n",
    "tablen = 2\n",
    "table_two = lhz.add_table_to_page(summary_gbif, tablen, caption, section)\n",
    "glue(\"table_two\", table_two, display=False)"
   ]
  },
  {
   "cell_type": "code",
   "execution_count": 4,
   "id": "bdabe10f-54e7-43e6-a34e-60b6923c7244",
   "metadata": {
    "editable": true,
    "slideshow": {
     "slide_type": ""
    },
    "tags": [
     "remove-input"
    ]
   },
   "outputs": [],
   "source": [
    "obs_lang = pd.read_csv(\"data/endpipe/gbif_observations_in_langholz_grids.csv\")\n",
    "display_cols = ['kingdom', 'phylum', 'class',\n",
    "       'order', 'family', 'genus', \n",
    "        'species', 'latitude',\n",
    "        'longitude',\n",
    "        'date']\n",
    "obs_lang[\"eventDate\"] = pd.to_datetime(obs_lang.eventDate)\n",
    "obs_lang['date'] = obs_lang.eventDate.dt.date\n",
    "rename_cols = {'decimalLatitude':'latitude', 'decimalLongitude':'longitude'}\n",
    "obs_lang.rename(columns=rename_cols, inplace=True)\n",
    "\n",
    "sample_gbif = obs_lang[display_cols].head().style.set_table_styles(lhz.table_css_styles).hide()\n",
    "caption = \"Exemple de données du GBIF utilisant les vertices des grilles 585215 et 585220 pour définir la surface.\"\n",
    "tablen = 3\n",
    "table_three = lhz.add_table_to_page(sample_gbif, tablen, caption, section, format_index='columns')\n",
    "glue(\"table_three\", table_three, display=False)"
   ]
  },
  {
   "cell_type": "code",
   "execution_count": 5,
   "id": "01827a42-9a20-4818-ac47-25d2e5f2ca3c",
   "metadata": {
    "editable": true,
    "slideshow": {
     "slide_type": ""
    },
    "tags": [
     "remove-input"
    ]
   },
   "outputs": [],
   "source": [
    "obs_l = pd.read_csv(\"data/endpipe/observations_langholzli_gbif.csv\")"
   ]
  },
  {
   "cell_type": "code",
   "execution_count": 6,
   "id": "aed48e74-89e7-4563-a1c0-fe40799deed8",
   "metadata": {
    "editable": true,
    "slideshow": {
     "slide_type": ""
    },
    "tags": [
     "remove-input"
    ]
   },
   "outputs": [],
   "source": [
    "target_s = target_species[\"Scientific Name\"].str.split().values\n",
    "target_genus = [x[0] for x in target_s]\n",
    "observed_genus = obs_lang[obs_lang.genus.isin(target_genus)].species.unique()\n",
    "number_genus = len(observed_genus)"
   ]
  },
  {
   "cell_type": "code",
   "execution_count": 7,
   "id": "4831d741-57dc-48a1-88ec-0c54d11f05de",
   "metadata": {
    "editable": true,
    "slideshow": {
     "slide_type": ""
    },
    "tags": [
     "remove-input"
    ]
   },
   "outputs": [],
   "source": [
    "ds = xr.open_dataset(\"data/inprocess/main_data.nc\")\n",
    "data = ds.sel(logger=[214,208,209,228]).to_dataframe().reset_index()\n",
    "\n",
    "gps = data[['logger', \"X\", 'Y']].drop_duplicates()\n",
    "gps.to_csv(\"data/endpipe/temp_points.csv\", index=False)"
   ]
  },
  {
   "cell_type": "markdown",
   "id": "30c1d9ca-056d-40f0-abca-ac86a32edc86",
   "metadata": {
    "editable": true,
    "slideshow": {
     "slide_type": ""
    },
    "tags": []
   },
   "source": [
    "# Données\n",
    "\n",
    "Le _Plan d’action pour la conservation d’espèces cibles dans les forêts claires_ est basé sur des recherches menées par des experts dans le domaine de la sylviculture et de la biodiversité. La mise en œuvre de ce plan s'appuie sur trois sources principales de données (page 8 Plan d'action):\n",
    "\n",
    "1. Liste et descriptions des associations forestières selon NaiS (Frehner et al. 2005), [OFEV biodiversité](https://www.bafu.admin.ch/bafu/fr/home/themes/biodiversite/publications/publications-biodiversite/liste-especes-prioritaires-nationales.html)\n",
    "2. Liste des milieux naturels prioritaires au niveau national (OFEV 2019), [OFEV biodiversité](https://www.bafu.admin.ch/bafu/fr/home/themes/biodiversite/publications/publications-biodiversite/liste-especes-prioritaires-nationales.html) \n",
    "3. Bases de données d’InfoSpecies, [demande de données](https://www.infospecies.ch/fr/donnees/)\n",
    "\n",
    "Ces données sont accessibles au public. Dans les cas 1 et 2, les données sont la synthèse des observations et des connaissances spécifiques au domaine par des experts mandatés par la confédération et peuvent être téléchargées directement. Les données sur les espèces, quant à elles, sont une base de données d'observations du public gérée par Infospecies. Infospecies est l'association faîtière des Centres de données et d'informations et des Centres de coordination pour la conservation des espèces.\n",
    "\n",
    "__Cartes__\n",
    "\n",
    "Les cartes sont les couches composites de swissTLM3D, version 2.1. Les fichiers .shp utilisés sont disponibles dans le dossier cartographie du dépôt de l'application. Les cartes originales peuvent être téléchargées de l'Office fédéral de topographie à l'adresse suivante [swissTLM3D](https://www.swisstopo.admin.ch/fr/modele-du-territoire-swisstlm3d)\n",
    "\n",
    "## Infospecies\n",
    "\n",
    "Résolution des données Infospecies: les donées gratuites sont dans une résolution de 5x5 km.  Chaque carré de 5 km a un numéro d'identification à six chiffres qui peut être utilisé pour demander des données à la base de données infospecies.\n",
    "\n",
    "Les identifiants de grille pour Längholzwald :\n",
    "\n",
    "1. 585220 Langholzli and vorholzli\n",
    "2. 585215 langholzli sud\n",
    "\n",
    "Pour l'identification des espèces dans le périmètre défini, la résolution doit être plus grande. Cependant, nous pouvons nous faire une idée des espèces identifiées dans la région en considérant toutes les observations qui se trouvent à l'intérieur des deux carrés de la grille.\n",
    "\n",
    "\n",
    "\n",
    "::::{grid} 1 1 1 1\n",
    "\n",
    ":::{grid-item}\n",
    "{glue}`table_one`\n",
    ":::\n",
    "\n",
    ":::{grid-item-card} \n",
    ":img-background: resources/maps/initial_map.jpeg\n",
    ":::\n",
    ":::{grid-item}\n",
    "__Carte 1 :__ Examen initial des données accessibles au public. Les données pour le Längholzwald sont réparties entre deux carrés de grille (585220 et 585215). Notez que les données sur les espèces peuvent provenir de n'importe quel point de la grille.\n",
    ":::\n",
    "::::\n",
    "\n",
    "## Global Biodiversity Information Facility (GBIF)\n",
    "\n",
    "Selon Infospecies, les données sont aussi disponible sur [GBIF](https://www.gbif.org/). La source de ces données sur GBIF est le _Swiss National Biodiversity Data and Information Center_. Il s'agit d'une combinaison de données provenant de dix banques de données nationales différentes.\n",
    "\n",
    "::::{grid} 1 1 2 2 \n",
    ":::{grid-item}\n",
    ":columns: 12 12 8 8\n",
    "\n",
    "{glue}`table_two`\n",
    ":::\n",
    ":::{grid-item-card}\n",
    ":columns: 12 12 4 4 \n",
    "\n",
    "Global Biodiversity Information Facility (Système mondial d’information sur la biodiversité)—est un réseau international et une infrastructure de données financés par les gouvernements mondiaux ayant pour but de fournir à tous et partout un accès libre aux données sur toutes les formes de vie sur Terre.\n",
    "\n",
    "Citation: GBIF.org (29 January 2024) GBIF Occurrence Download  https://doi.org/10.15468/dl.fnsqgf\n",
    "\n",
    ":::\n",
    "::::\n",
    "\n",
    "::::{grid} 1 1 1 1\n",
    "\n",
    ":::{grid-item}\n",
    "\n",
    "{glue}`table_three`\n",
    ":::\n",
    "\n",
    ":::{grid-item-card} \n",
    ":img-background: resources/maps/initial_gbif_map.jpeg\n",
    ":::\n",
    ":::{grid-item}\n",
    "__Carte 2 :__ Examen initial des données accessibles au public. Les données du GBIF indiquent les coordonnées GPS des observations. Cela nous permet de définir les observations qui ont eu lieu dans le Längholzwald. Nombre d'observations = 96.\n",
    ":::\n",
    "\n",
    "::::\n",
    "\n",
    "## L'îlot de chaleur urbain\n",
    "\n",
    "Le phénomène par lequel les zones urbaines enregistrent des températures nettement plus élevées que leurs environs ruraux. Cette augmentation de la température est due à des facteurs tels que la forte concentration de bâtiments, de routes et d'autres infrastructures qui absorbent et retiennent la chaleur, la végétation limitée, et les activités humaines générant de la chaleur. \n",
    "\n",
    "\n",
    "\n",
    "::::{grid} 1 1 2 2 \n",
    ":::{grid-item-card}\n",
    ":columns: 12 12 8 8\n",
    ":img-background: resources/maps/initial_temp_map.jpeg\n",
    "\n",
    "\n",
    "\n",
    ":::\n",
    ":::{grid-item}\n",
    ":columns: 12 12 4 4 \n",
    "\n",
    "L'effet est plus prononcé pendant la nuit et peut entraîner une augmentation de la consommation d'énergie, des coûts de climatisation et des risques pour la santé en raison des vagues de chaleur.\n",
    "\n",
    "Gabrial Erismann réalise son thèse de master sur la chaleur urbain. Voici quelques-uns des points de contrôle issus des données.\n",
    "\n",
    "__Carte 3 :__ Examen initial des données accessibles au public : Température.\n",
    ":::\n",
    "::::\n",
    "\n",
    "## Dechets\n",
    "\n",
    "Les résultats de la dernière enquête fédérale sur les déchets indiquent un taux de 374 à 716 déchets par 100 mètres (p/100 m) pour Biel au bord du lac. Dans les Alpes bernoises, Grindelwald, ce chiffre est observé à environ 172 à 374 p/100 m. [IQAASL](https://hammerdirt-analyst.github.io/IQAASL-End-0f-Sampling-2021/) \n",
    "::::{grid} 1 1 1 1  \n",
    ":::{grid-item-card} \n",
    ":img-background: resources/maps/biel_dechets.jpeg\n",
    ":::\n",
    "\n",
    ":::{grid-item}\n",
    "__Carte 4 :__ Examen initial des données: Densité de déchets pour 100 m. Ce nombre a été mesuré autour des lacs et des rivières pendant 7 ans, les déchets le long des sentiers de randonnée ont été mesurés en unités par 100 m de sentier en 2021. Les valeurs du bassin de l'Aare sont en général plus faibles que celles d'autres lieux mesurés.\n",
    "\n",
    ":::\n",
    "::::"
   ]
  },
  {
   "cell_type": "code",
   "execution_count": 8,
   "id": "ba3fd571-874b-4e14-9d57-bbc071a69b6b",
   "metadata": {
    "editable": true,
    "slideshow": {
     "slide_type": ""
    },
    "tags": [
     "remove-input"
    ]
   },
   "outputs": [
    {
     "name": "stdout",
     "output_type": "stream",
     "text": [
      "Github username: hammerdirt-analyst\n",
      "\n",
      "Last updated: 2024-02-05\n",
      "\n"
     ]
    }
   ],
   "source": [
    "%watermark -d -u -gu \"hammerdirt-analyst\""
   ]
  },
  {
   "cell_type": "code",
   "execution_count": null,
   "id": "0c28ccc6-a919-41dd-957f-0ea25ceacf96",
   "metadata": {},
   "outputs": [],
   "source": []
  }
 ],
 "metadata": {
  "kernelspec": {
   "display_name": "Python 3 (ipykernel)",
   "language": "python",
   "name": "python3"
  },
  "language_info": {
   "codemirror_mode": {
    "name": "ipython",
    "version": 3
   },
   "file_extension": ".py",
   "mimetype": "text/x-python",
   "name": "python",
   "nbconvert_exporter": "python",
   "pygments_lexer": "ipython3",
   "version": "3.12.1"
  }
 },
 "nbformat": 4,
 "nbformat_minor": 5
}