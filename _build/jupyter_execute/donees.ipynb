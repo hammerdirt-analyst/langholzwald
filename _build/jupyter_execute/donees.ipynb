{
 "cells": [
  {
   "cell_type": "code",
   "execution_count": 1,
   "id": "c7462238-e818-4008-9070-d5a45e2b9aa5",
   "metadata": {
    "editable": true,
    "jupyter": {
     "source_hidden": true
    },
    "slideshow": {
     "slide_type": ""
    },
    "tags": [
     "remove-input"
    ]
   },
   "outputs": [],
   "source": [
    "import pandas as pd\n",
    "\n",
    "target_species = pd.read_csv('data/inprocess/target_species.csv')\n",
    "# window extents\n",
    "wext_one = (7.1673981838973591,47.0951027481864699)\n",
    "wext_two = (7.3867370409999991,47.1906072286096219)\n",
    "\n",
    "# grid extents\n",
    "# square id\n",
    "# 585220 Langholzli and vorholzli\n",
    "# 585215 langholzli sud\n",
    "# 590220 vorholzli nord\n",
    "\n",
    "# extent of the two grid squares that make langholz\n",
    "grid_one = (7.2407620202501777,47.0858405714567212)\n",
    "grid_two = (7.3069424859821366,47.1758797299210784)\n",
    "date_limit = '2000-01-01'\n",
    "\n",
    "# citation of from GBIF download\n",
    "# GBIF.org (29 January 2024) GBIF Occurrence Download  https://doi.org/10.15468/dl.fnsqgf\n",
    "\n",
    "\n",
    "obs_cols = ['kingdom', 'phylum', 'class',\n",
    "       'order', 'family', 'genus', \n",
    "        'species', 'scientificName', \n",
    "        'verbatimScientificName',\n",
    "        'publishingOrgKey', 'decimalLatitude',\n",
    "        'decimalLongitude',\n",
    "        'eventDate']"
   ]
  },
  {
   "cell_type": "markdown",
   "id": "30c1d9ca-056d-40f0-abca-ac86a32edc86",
   "metadata": {
    "editable": true,
    "slideshow": {
     "slide_type": ""
    },
    "tags": []
   },
   "source": [
    "# Données\n",
    "\n",
    "The _Plan d’action pour la conservation d’espèces cibles dans les forêts claires_ is based on research by experts in the field of forestry and biodiversity. The implementation of this plan has three chief sources of data (page 8 Plan d'action):\n",
    "\n",
    "1. Liste et descriptions des associations forestières selon NaiS (Frehner et al. 2005), [OFEV biodiversité](https://www.bafu.admin.ch/bafu/fr/home/themes/biodiversite/publications/publications-biodiversite/liste-especes-prioritaires-nationales.html)\n",
    "2. Liste des milieux naturels prioritaires au niveau national (OFEV 2019), [OFEV biodiversité](https://www.bafu.admin.ch/bafu/fr/home/themes/biodiversite/publications/publications-biodiversite/liste-especes-prioritaires-nationales.html) \n",
    "3. Bases de données d’InfoSpecies, [demande de données](https://www.infospecies.ch/fr/donnees/)\n",
    "\n",
    "These data are available to the public. In the case of one and two, the data is the synthesis of observations and domain specific knowledge by experts in the field mandated by the confederation and  downloadable directly. The species data however is a database of observations from the public maintained by Infospecies. Infospecies est l'association faîtière des Centres de données et d'informations et des Centres de coordination pour la conservation des espèces.\n",
    "\n",
    "Résolution des données Infospecies: les donées gratuites sont dans une résolution de 5x5 km. Each 5 km square has a six digit identification mumber that can be used to request data from the infospecies database.\n",
    "\n",
    "The grid identifiers for LangholzWald:\n",
    "\n",
    "1. 585220 Langholzli and vorholzli\n",
    "2. 585215 langholzli sud\n",
    "\n",
    "For the purposes of identifying the species in the LangholzWald the resolution needs to be greater. However, we can still get an idea of the identified species in the area of the LanhholzWald by condsidering all the observations that are within the two grid squares.\n",
    "\n",
    "\n",
    ":::{card} Carte de situation\n",
    ":img-top: resources/maps/initial_map.jpeg\n",
    "\n",
    "+++\n",
    "A footer\n",
    ":::\n",
    "\n"
   ]
  },
  {
   "cell_type": "code",
   "execution_count": 2,
   "id": "9ff83258-069a-4e47-b582-67dc2877fd24",
   "metadata": {
    "editable": true,
    "slideshow": {
     "slide_type": ""
    },
    "tags": [
     "remove-input"
    ]
   },
   "outputs": [
    {
     "data": {
      "text/plain": [
       "1820"
      ]
     },
     "execution_count": 2,
     "metadata": {},
     "output_type": "execute_result"
    }
   ],
   "source": [
    "observations = pd.read_csv(\"data/inprocess/gbif_occurence.csv\",sep = '\\t', low_memory=False)\n",
    "obs = observations[obs_cols].copy()\n",
    "\n",
    "masklat = (obs.decimalLatitude >= grid_one[1])&(obs.decimalLatitude <= grid_two[1])\n",
    "masklon = (obs.decimalLongitude >= grid_one[0])&(obs.decimalLongitude <= grid_two[0])\n",
    "maskdate = obs.eventDate > date_limit\n",
    "obs_lang = obs[masklat&masklon&maskdate].copy()\n",
    "\n",
    "obs_lang.species.nunique()"
   ]
  },
  {
   "cell_type": "code",
   "execution_count": 3,
   "id": "bdabe10f-54e7-43e6-a34e-60b6923c7244",
   "metadata": {
    "editable": true,
    "slideshow": {
     "slide_type": ""
    },
    "tags": [
     "remove-input"
    ]
   },
   "outputs": [
    {
     "data": {
      "text/plain": [
       "class\n",
       "Agaricomycetes     390\n",
       "Amphibia             8\n",
       "Dacrymycetes         1\n",
       "Dothideomycetes     15\n",
       "Ginkgoopsida         1\n",
       "Insecta            325\n",
       "Lecanoromycetes      2\n",
       "Leotiomycetes       23\n",
       "Liliopsida         190\n",
       "Magnoliopsida      746\n",
       "Mammalia            23\n",
       "Myxomycetes          2\n",
       "Pezizomycetes       28\n",
       "Pinopsida           10\n",
       "Polypodiopsida      29\n",
       "Pucciniomycetes      2\n",
       "Sordariomycetes     24\n",
       "Tremellomycetes      1\n",
       "Name: species, dtype: int64"
      ]
     },
     "execution_count": 3,
     "metadata": {},
     "output_type": "execute_result"
    }
   ],
   "source": [
    "obs_lang.groupby(\"class\").species.nunique()"
   ]
  },
  {
   "cell_type": "code",
   "execution_count": 4,
   "id": "aed48e74-89e7-4563-a1c0-fe40799deed8",
   "metadata": {
    "editable": true,
    "slideshow": {
     "slide_type": ""
    },
    "tags": [
     "remove-input"
    ]
   },
   "outputs": [
    {
     "data": {
      "text/plain": [
       "196"
      ]
     },
     "execution_count": 4,
     "metadata": {},
     "output_type": "execute_result"
    }
   ],
   "source": [
    "target_s = target_species[\"Scientific Name\"].str.split().values\n",
    "target_genus = [x[0] for x in target_s]\n",
    "observed_genus = obs_lang[obs_lang.genus.isin(target_genus)].species.unique()\n",
    "number_genus = len(observed_genus)\n",
    "number_genus"
   ]
  }
 ],
 "metadata": {
  "kernelspec": {
   "display_name": "Python 3 (ipykernel)",
   "language": "python",
   "name": "python3"
  },
  "language_info": {
   "codemirror_mode": {
    "name": "ipython",
    "version": 3
   },
   "file_extension": ".py",
   "mimetype": "text/x-python",
   "name": "python",
   "nbconvert_exporter": "python",
   "pygments_lexer": "ipython3",
   "version": "3.12.1"
  }
 },
 "nbformat": 4,
 "nbformat_minor": 5
}